{
  "nbformat": 4,
  "nbformat_minor": 0,
  "metadata": {
    "colab": {
      "provenance": []
    },
    "kernelspec": {
      "name": "python3",
      "display_name": "Python 3"
    },
    "language_info": {
      "name": "python"
    }
  },
  "cells": [
    {
      "cell_type": "code",
      "execution_count": 5,
      "metadata": {
        "colab": {
          "base_uri": "https://localhost:8080/"
        },
        "id": "K_--6egiro8a",
        "outputId": "91f35e13-1100-43ae-abf3-ed3365bceed4"
      },
      "outputs": [
        {
          "output_type": "stream",
          "name": "stdout",
          "text": [
            "請輸入聖誕樹的高度：10\n",
            "         *\n",
            "        ***\n",
            "       *****\n",
            "      *******\n",
            "     *********\n",
            "    ***********\n",
            "   *************\n",
            "  ***************\n",
            " *****************\n",
            "*******************\n",
            "        ***\n",
            "        ***\n",
            "        ***\n",
            "        ***\n",
            "        ***\n"
          ]
        }
      ],
      "source": [
        "def a(height):\n",
        "    for i in range(1, height + 1):\n",
        "        print(\" \" * (height - i) + \"*\" * (2 * i - 1))\n",
        "    for i in range(5):\n",
        "        print(\" \" * (height - 2) + \"***\")\n",
        "height = int(input(\"請輸入聖誕樹的高度：\"))\n",
        "a(height)"
      ]
    },
    {
      "cell_type": "code",
      "source": [
        "def a(height, weight):\n",
        "    height_m = height / 100\n",
        "    bmi = weight / (height_m ** 2)\n",
        "    return bmi\n",
        "def b(bmi):\n",
        "    if bmi < 18.5:\n",
        "        return \"過輕\"\n",
        "    elif bmi < 24:\n",
        "        return \"正常\"\n",
        "    elif bmi < 27:\n",
        "        return \"過重\"\n",
        "    elif bmi < 30:\n",
        "        return \"輕度肥胖\"\n",
        "    elif bmi < 35:\n",
        "        return \"中度肥胖\"\n",
        "    else:\n",
        "        return \"重度肥胖\"\n",
        "try:\n",
        "    height = float(input(\"請輸入身高(公分): \"))\n",
        "    weight = float(input(\"請輸入體重(公斤): \"))\n",
        "\n",
        "    bmi = a(height, weight)\n",
        "    print(\"您的BMI值為: {:.2f}\".format(bmi))\n",
        "    print(\"您的體位結果為:\", b(bmi))\n",
        "except:\n",
        "    print(\"輸入錯誤: 請確保輸入的是數字\")"
      ],
      "metadata": {
        "colab": {
          "base_uri": "https://localhost:8080/"
        },
        "id": "akLTOqdzvn7b",
        "outputId": "3d90365b-0545-4fc6-b636-fa13ab859e01"
      },
      "execution_count": 16,
      "outputs": [
        {
          "output_type": "stream",
          "name": "stdout",
          "text": [
            "請輸入身高(公分): 160\n",
            "請輸入體重(公斤): 40\n",
            "您的BMI值為: 15.62\n",
            "您的體位結果為: 過輕\n"
          ]
        }
      ]
    }
  ]
}