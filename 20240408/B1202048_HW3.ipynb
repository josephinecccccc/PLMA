{
  "nbformat": 4,
  "nbformat_minor": 0,
  "metadata": {
    "colab": {
      "provenance": []
    },
    "kernelspec": {
      "name": "python3",
      "display_name": "Python 3"
    },
    "language_info": {
      "name": "python"
    }
  },
  "cells": [
    {
      "cell_type": "code",
      "execution_count": 26,
      "metadata": {
        "colab": {
          "base_uri": "https://localhost:8080/"
        },
        "id": "70GhevyFqYrF",
        "outputId": "fe4cd2a8-ba6b-4ed3-9974-04d7f3aa7528"
      },
      "outputs": [
        {
          "output_type": "stream",
          "name": "stdout",
          "text": [
            "請輸入年份1700\n",
            "平年\n"
          ]
        }
      ],
      "source": [
        "a=float(input('請輸入年份'))\n",
        "if a<=1582:\n",
        "  if a%4==0:\n",
        "   print('閏年')\n",
        "  else:\n",
        "   print('平年')\n",
        "else:\n",
        "  if a%100==0 and a%400==0:\n",
        "   print('閏年')\n",
        "  elif a%4==0 and a%100>0:\n",
        "   print('閏年')\n",
        "  else:\n",
        "   print('平年')"
      ]
    }
  ]
}