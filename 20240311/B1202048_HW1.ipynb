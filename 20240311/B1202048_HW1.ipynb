{
  "nbformat": 4,
  "nbformat_minor": 0,
  "metadata": {
    "colab": {
      "provenance": []
    },
    "kernelspec": {
      "name": "python3",
      "display_name": "Python 3"
    },
    "language_info": {
      "name": "python"
    }
  },
  "cells": [
    {
      "cell_type": "code",
      "execution_count": null,
      "metadata": {
        "colab": {
          "base_uri": "https://localhost:8080/"
        },
        "id": "zGVKwLscoSqz",
        "outputId": "8aeffde5-44d3-48f6-ec60-b092a17dc8d7"
      },
      "outputs": [
        {
          "output_type": "stream",
          "name": "stdout",
          "text": [
            "I'm a student\n"
          ]
        }
      ],
      "source": [
        "a=\"I'm a student\"\n",
        "print(a)"
      ]
    },
    {
      "cell_type": "code",
      "source": [
        "a=float(input('x1='))\n",
        "b=float(input('x2='))\n",
        "c=float(input('y1='))\n",
        "d=float(input('y2='))\n",
        "print('兩點距離為:',((c-a)**2+(d-b)**2)**0.5)"
      ],
      "metadata": {
        "id": "RU9Sgb-bo3Hh",
        "colab": {
          "base_uri": "https://localhost:8080/"
        },
        "outputId": "4bbee677-ef48-419f-bf6f-00f14cd3e24e"
      },
      "execution_count": 5,
      "outputs": [
        {
          "output_type": "stream",
          "name": "stdout",
          "text": [
            "x1=2\n",
            "x2=2\n",
            "y1=3\n",
            "y2=3\n",
            "兩點距離為 1.4142135623730951\n"
          ]
        }
      ]
    },
    {
      "cell_type": "code",
      "source": [
        "a=float(input('請輸入身高(cm)'))\n",
        "b=float(input('請輸入體重(kg)'))\n",
        "b/=((a/100)**2)\n",
        "print('您的BMI為:',b)"
      ],
      "metadata": {
        "colab": {
          "base_uri": "https://localhost:8080/"
        },
        "id": "QFIxclNZBc5Y",
        "outputId": "182aaf39-2f84-40c7-f43b-388f99c75dcc"
      },
      "execution_count": 12,
      "outputs": [
        {
          "output_type": "stream",
          "name": "stdout",
          "text": [
            "請輸入身高(cm)158\n",
            "請輸入體重(kg)55\n",
            "您的BMI為: 22.031725684986377\n"
          ]
        }
      ]
    }
  ]
}