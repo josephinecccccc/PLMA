{
  "nbformat": 4,
  "nbformat_minor": 0,
  "metadata": {
    "colab": {
      "provenance": []
    },
    "kernelspec": {
      "name": "python3",
      "display_name": "Python 3"
    },
    "language_info": {
      "name": "python"
    }
  },
  "cells": [
    {
      "cell_type": "code",
      "execution_count": 5,
      "metadata": {
        "id": "DylqfaaEgoUp",
        "colab": {
          "base_uri": "https://localhost:8080/"
        },
        "outputId": "08b39e40-c058-4631-a548-f60a9d3e7cf2"
      },
      "outputs": [
        {
          "output_type": "stream",
          "name": "stdout",
          "text": [
            "請輸入身高(cm)130\n",
            "請輸入體重(kg)100\n",
            "您的BMI為: 59.17159763313609\n",
            "體位: 肥胖\n"
          ]
        }
      ],
      "source": [
        "a=float(input('請輸入身高(cm)'))\n",
        "b=float(input('請輸入體重(kg)'))\n",
        "b/=((a/100)**2)\n",
        "print('您的BMI為:',b)\n",
        "if b<18.5:\n",
        "  print('體位:','過輕')\n",
        "if 18.5<=b<24:\n",
        "  print('體位:','適中')\n",
        "if 24<=b<27:\n",
        "  print('體位:','過重')\n",
        "if b>=27:\n",
        "  print('體位:','肥胖')"
      ]
    },
    {
      "cell_type": "code",
      "source": [
        "a=float(input('請輸入第一個數字'))\n",
        "b=input('請輸入運算符號')\n",
        "c=float(input('請輸入第二個數字'))\n",
        "if b=='+':\n",
        "  print(a+c)\n",
        "if b=='-':\n",
        "  print(a-c)\n",
        "if b=='*':\n",
        "  print(a*c)\n",
        "if b=='/':\n",
        "  print(a/c)"
      ],
      "metadata": {
        "colab": {
          "base_uri": "https://localhost:8080/"
        },
        "id": "blZotEn5kFg8",
        "outputId": "3d7c4d27-6b27-46b0-cf2d-c8c7b765a4c7"
      },
      "execution_count": 14,
      "outputs": [
        {
          "output_type": "stream",
          "name": "stdout",
          "text": [
            "請輸入第一個數字5\n",
            "請輸入運算符號*\n",
            "請輸入第二個數字3\n",
            "15.0\n"
          ]
        }
      ]
    }
  ]
}