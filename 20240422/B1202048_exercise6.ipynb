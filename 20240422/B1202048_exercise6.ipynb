{
  "cells": [
    {
      "cell_type": "code",
      "execution_count": null,
      "metadata": {
        "colab": {
          "base_uri": "https://localhost:8080/"
        },
        "id": "jd--Jqewnnjh",
        "outputId": "eb4f291f-69b8-4f37-9c3f-4795de06e21e"
      },
      "outputs": [
        {
          "name": "stdout",
          "output_type": "stream",
          "text": [
            "1x1=1  2x1=2  3x1=3  4x1=4  5x1=5  6x1=6  7x1=7  8x1=8  9x1=9    \n",
            "1x2=2  2x2=4  3x2=6  4x2=8  5x2=10 6x2=12 7x2=14 8x2=16 9x2=18   \n",
            "1x3=3  2x3=6  3x3=9  4x3=12 5x3=15 6x3=18 7x3=21 8x3=24 9x3=27   \n",
            "1x4=4  2x4=8  3x4=12 4x4=16 5x4=20 6x4=24 7x4=28 8x4=32 9x4=36   \n",
            "1x5=5  2x5=10 3x5=15 4x5=20 5x5=25 6x5=30 7x5=35 8x5=40 9x5=45   \n",
            "1x6=6  2x6=12 3x6=18 4x6=24 5x6=30 6x6=36 7x6=42 8x6=48 9x6=54   \n",
            "1x7=7  2x7=14 3x7=21 4x7=28 5x7=35 6x7=42 7x7=49 8x7=56 9x7=63   \n",
            "1x8=8  2x8=16 3x8=24 4x8=32 5x8=40 6x8=48 7x8=56 8x8=64 9x8=72   \n",
            "1x9=9  2x9=18 3x9=27 4x9=36 5x9=45 6x9=54 7x9=63 8x9=72 9x9=81   \n"
          ]
        }
      ],
      "source": [
        "a=1\n",
        "while a<=9:\n",
        "  b=1\n",
        "  while b<=9:\n",
        "            print(f'{b}x{a}={a*b:<2}',end=' ')\n",
        "            b += 1\n",
        "  a+=1\n",
        "  print('  ')"
      ]
    },
    {
      "cell_type": "code",
      "execution_count": 22,
      "metadata": {
        "colab": {
          "base_uri": "https://localhost:8080/"
        },
        "id": "AvpbQVPJrXNA",
        "outputId": "c872efd0-c042-4eb0-a2ed-9f6dca5beb0d"
      },
      "outputs": [
        {
          "output_type": "stream",
          "name": "stdout",
          "text": [
            "[3, 8, 7, 1]\n",
            "請輸入四位數字(不會重複)12345\n",
            "輸入數字位數過多，請輸入四位數字(不會重複)1234\n",
            "1234: 0A2B\n",
            "請輸入四位數字(不會重複)2456\n",
            "2456: 0A0B\n",
            "請輸入四位數字(不會重複)7685\n",
            "7685: 0A2B\n",
            "請輸入四位數字(不會重複)3871\n",
            "3871: 4A0B\n",
            "答對了！總共猜了 4 次\n"
          ]
        }
      ],
      "source": [
        "import random\n",
        "Ans=random.sample(range(1,10),4)\n",
        "print(Ans)\n",
        "a=b=0\n",
        "num = 0\n",
        "while (a != 4):\n",
        "    A = input('請輸入四位數字(不會重複)')\n",
        "    a = b = 0\n",
        "    while(len(A) != 4):\n",
        "        if (len(A)<4):\n",
        "            A = input('輸入數字位數過少，請輸入四位數字(不會重複)')\n",
        "        if (len(A)>4):\n",
        "            A = input('輸入數字位數過多，請輸入四位數字(不會重複)')\n",
        "    num+=1\n",
        "    for i in range(4):\n",
        "        if int(A[i]) == Ans[i]:\n",
        "            a += 1\n",
        "        else:\n",
        "            if int(A[i]) in Ans:\n",
        "                b += 1\n",
        "    print(f'{A}: {a}A{b}B')\n",
        "print(f'答對了！總共猜了 {num} 次')\n"
      ]
    }
  ],
  "metadata": {
    "colab": {
      "provenance": []
    },
    "kernelspec": {
      "display_name": "Python 3",
      "name": "python3"
    },
    "language_info": {
      "name": "python"
    }
  },
  "nbformat": 4,
  "nbformat_minor": 0
}